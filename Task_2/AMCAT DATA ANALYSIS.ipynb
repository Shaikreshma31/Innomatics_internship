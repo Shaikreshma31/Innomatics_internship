{
 "cells": [
  {
   "cell_type": "code",
   "execution_count": 1,
   "metadata": {},
   "outputs": [],
   "source": [
    "import numpy as np\n",
    "import pandas as pd\n",
    "import matplotlib.pyplot as plt"
   ]
  },
  {
   "cell_type": "code",
   "execution_count": 2,
   "metadata": {},
   "outputs": [
    {
     "data": {
      "text/html": [
       "<div>\n",
       "<style scoped>\n",
       "    .dataframe tbody tr th:only-of-type {\n",
       "        vertical-align: middle;\n",
       "    }\n",
       "\n",
       "    .dataframe tbody tr th {\n",
       "        vertical-align: top;\n",
       "    }\n",
       "\n",
       "    .dataframe thead th {\n",
       "        text-align: right;\n",
       "    }\n",
       "</style>\n",
       "<table border=\"1\" class=\"dataframe\">\n",
       "  <thead>\n",
       "    <tr style=\"text-align: right;\">\n",
       "      <th></th>\n",
       "      <th>Unnamed: 0</th>\n",
       "      <th>ID</th>\n",
       "      <th>Salary</th>\n",
       "      <th>DOJ</th>\n",
       "      <th>DOL</th>\n",
       "      <th>Designation</th>\n",
       "      <th>JobCity</th>\n",
       "      <th>Gender</th>\n",
       "      <th>DOB</th>\n",
       "      <th>10percentage</th>\n",
       "      <th>...</th>\n",
       "      <th>ComputerScience</th>\n",
       "      <th>MechanicalEngg</th>\n",
       "      <th>ElectricalEngg</th>\n",
       "      <th>TelecomEngg</th>\n",
       "      <th>CivilEngg</th>\n",
       "      <th>conscientiousness</th>\n",
       "      <th>agreeableness</th>\n",
       "      <th>extraversion</th>\n",
       "      <th>nueroticism</th>\n",
       "      <th>openess_to_experience</th>\n",
       "    </tr>\n",
       "  </thead>\n",
       "  <tbody>\n",
       "    <tr>\n",
       "      <th>0</th>\n",
       "      <td>train</td>\n",
       "      <td>203097</td>\n",
       "      <td>420000</td>\n",
       "      <td>2012-06-01</td>\n",
       "      <td>present</td>\n",
       "      <td>senior quality engineer</td>\n",
       "      <td>Bangalore</td>\n",
       "      <td>f</td>\n",
       "      <td>1990-02-19</td>\n",
       "      <td>84.30</td>\n",
       "      <td>...</td>\n",
       "      <td>-1</td>\n",
       "      <td>-1</td>\n",
       "      <td>-1</td>\n",
       "      <td>-1</td>\n",
       "      <td>-1</td>\n",
       "      <td>0.9737</td>\n",
       "      <td>0.8128</td>\n",
       "      <td>0.5269</td>\n",
       "      <td>1.35490</td>\n",
       "      <td>-0.4455</td>\n",
       "    </tr>\n",
       "    <tr>\n",
       "      <th>1</th>\n",
       "      <td>train</td>\n",
       "      <td>579905</td>\n",
       "      <td>500000</td>\n",
       "      <td>2013-09-01</td>\n",
       "      <td>present</td>\n",
       "      <td>assistant manager</td>\n",
       "      <td>Indore</td>\n",
       "      <td>m</td>\n",
       "      <td>1989-10-04</td>\n",
       "      <td>85.40</td>\n",
       "      <td>...</td>\n",
       "      <td>-1</td>\n",
       "      <td>-1</td>\n",
       "      <td>-1</td>\n",
       "      <td>-1</td>\n",
       "      <td>-1</td>\n",
       "      <td>-0.7335</td>\n",
       "      <td>0.3789</td>\n",
       "      <td>1.2396</td>\n",
       "      <td>-0.10760</td>\n",
       "      <td>0.8637</td>\n",
       "    </tr>\n",
       "    <tr>\n",
       "      <th>2</th>\n",
       "      <td>train</td>\n",
       "      <td>810601</td>\n",
       "      <td>325000</td>\n",
       "      <td>2014-06-01</td>\n",
       "      <td>present</td>\n",
       "      <td>systems engineer</td>\n",
       "      <td>Chennai</td>\n",
       "      <td>f</td>\n",
       "      <td>1992-08-03</td>\n",
       "      <td>85.00</td>\n",
       "      <td>...</td>\n",
       "      <td>-1</td>\n",
       "      <td>-1</td>\n",
       "      <td>-1</td>\n",
       "      <td>-1</td>\n",
       "      <td>-1</td>\n",
       "      <td>0.2718</td>\n",
       "      <td>1.7109</td>\n",
       "      <td>0.1637</td>\n",
       "      <td>-0.86820</td>\n",
       "      <td>0.6721</td>\n",
       "    </tr>\n",
       "    <tr>\n",
       "      <th>3</th>\n",
       "      <td>train</td>\n",
       "      <td>267447</td>\n",
       "      <td>1100000</td>\n",
       "      <td>2011-07-01</td>\n",
       "      <td>present</td>\n",
       "      <td>senior software engineer</td>\n",
       "      <td>Gurgaon</td>\n",
       "      <td>m</td>\n",
       "      <td>1989-12-05</td>\n",
       "      <td>85.60</td>\n",
       "      <td>...</td>\n",
       "      <td>-1</td>\n",
       "      <td>-1</td>\n",
       "      <td>-1</td>\n",
       "      <td>-1</td>\n",
       "      <td>-1</td>\n",
       "      <td>0.0464</td>\n",
       "      <td>0.3448</td>\n",
       "      <td>-0.3440</td>\n",
       "      <td>-0.40780</td>\n",
       "      <td>-0.9194</td>\n",
       "    </tr>\n",
       "    <tr>\n",
       "      <th>4</th>\n",
       "      <td>train</td>\n",
       "      <td>343523</td>\n",
       "      <td>200000</td>\n",
       "      <td>2014-03-01</td>\n",
       "      <td>2015-03-01 00:00:00</td>\n",
       "      <td>get</td>\n",
       "      <td>Manesar</td>\n",
       "      <td>m</td>\n",
       "      <td>1991-02-27</td>\n",
       "      <td>78.00</td>\n",
       "      <td>...</td>\n",
       "      <td>-1</td>\n",
       "      <td>-1</td>\n",
       "      <td>-1</td>\n",
       "      <td>-1</td>\n",
       "      <td>-1</td>\n",
       "      <td>-0.8810</td>\n",
       "      <td>-0.2793</td>\n",
       "      <td>-1.0697</td>\n",
       "      <td>0.09163</td>\n",
       "      <td>-0.1295</td>\n",
       "    </tr>\n",
       "    <tr>\n",
       "      <th>...</th>\n",
       "      <td>...</td>\n",
       "      <td>...</td>\n",
       "      <td>...</td>\n",
       "      <td>...</td>\n",
       "      <td>...</td>\n",
       "      <td>...</td>\n",
       "      <td>...</td>\n",
       "      <td>...</td>\n",
       "      <td>...</td>\n",
       "      <td>...</td>\n",
       "      <td>...</td>\n",
       "      <td>...</td>\n",
       "      <td>...</td>\n",
       "      <td>...</td>\n",
       "      <td>...</td>\n",
       "      <td>...</td>\n",
       "      <td>...</td>\n",
       "      <td>...</td>\n",
       "      <td>...</td>\n",
       "      <td>...</td>\n",
       "      <td>...</td>\n",
       "    </tr>\n",
       "    <tr>\n",
       "      <th>3993</th>\n",
       "      <td>train</td>\n",
       "      <td>47916</td>\n",
       "      <td>280000</td>\n",
       "      <td>2011-10-01</td>\n",
       "      <td>2012-10-01 00:00:00</td>\n",
       "      <td>software engineer</td>\n",
       "      <td>New Delhi</td>\n",
       "      <td>m</td>\n",
       "      <td>1987-04-15</td>\n",
       "      <td>52.09</td>\n",
       "      <td>...</td>\n",
       "      <td>-1</td>\n",
       "      <td>-1</td>\n",
       "      <td>-1</td>\n",
       "      <td>-1</td>\n",
       "      <td>-1</td>\n",
       "      <td>-0.1082</td>\n",
       "      <td>0.3448</td>\n",
       "      <td>0.2366</td>\n",
       "      <td>0.64980</td>\n",
       "      <td>-0.9194</td>\n",
       "    </tr>\n",
       "    <tr>\n",
       "      <th>3994</th>\n",
       "      <td>train</td>\n",
       "      <td>752781</td>\n",
       "      <td>100000</td>\n",
       "      <td>2013-07-01</td>\n",
       "      <td>2013-07-01 00:00:00</td>\n",
       "      <td>technical writer</td>\n",
       "      <td>Hyderabad</td>\n",
       "      <td>f</td>\n",
       "      <td>1992-08-27</td>\n",
       "      <td>90.00</td>\n",
       "      <td>...</td>\n",
       "      <td>-1</td>\n",
       "      <td>-1</td>\n",
       "      <td>-1</td>\n",
       "      <td>-1</td>\n",
       "      <td>-1</td>\n",
       "      <td>-0.3027</td>\n",
       "      <td>0.8784</td>\n",
       "      <td>0.9322</td>\n",
       "      <td>0.77980</td>\n",
       "      <td>-0.0943</td>\n",
       "    </tr>\n",
       "    <tr>\n",
       "      <th>3995</th>\n",
       "      <td>train</td>\n",
       "      <td>355888</td>\n",
       "      <td>320000</td>\n",
       "      <td>2013-07-01</td>\n",
       "      <td>present</td>\n",
       "      <td>associate software engineer</td>\n",
       "      <td>Bangalore</td>\n",
       "      <td>m</td>\n",
       "      <td>1991-07-03</td>\n",
       "      <td>81.86</td>\n",
       "      <td>...</td>\n",
       "      <td>-1</td>\n",
       "      <td>-1</td>\n",
       "      <td>-1</td>\n",
       "      <td>-1</td>\n",
       "      <td>-1</td>\n",
       "      <td>-1.5765</td>\n",
       "      <td>-1.5273</td>\n",
       "      <td>-1.5051</td>\n",
       "      <td>-1.31840</td>\n",
       "      <td>-0.7615</td>\n",
       "    </tr>\n",
       "    <tr>\n",
       "      <th>3996</th>\n",
       "      <td>train</td>\n",
       "      <td>947111</td>\n",
       "      <td>200000</td>\n",
       "      <td>2014-07-01</td>\n",
       "      <td>2015-01-01 00:00:00</td>\n",
       "      <td>software developer</td>\n",
       "      <td>Asifabadbanglore</td>\n",
       "      <td>f</td>\n",
       "      <td>1992-03-20</td>\n",
       "      <td>78.72</td>\n",
       "      <td>...</td>\n",
       "      <td>438</td>\n",
       "      <td>-1</td>\n",
       "      <td>-1</td>\n",
       "      <td>-1</td>\n",
       "      <td>-1</td>\n",
       "      <td>-0.1590</td>\n",
       "      <td>0.0459</td>\n",
       "      <td>-0.4511</td>\n",
       "      <td>-0.36120</td>\n",
       "      <td>-0.0943</td>\n",
       "    </tr>\n",
       "    <tr>\n",
       "      <th>3997</th>\n",
       "      <td>train</td>\n",
       "      <td>324966</td>\n",
       "      <td>400000</td>\n",
       "      <td>2013-02-01</td>\n",
       "      <td>present</td>\n",
       "      <td>senior systems engineer</td>\n",
       "      <td>Chennai</td>\n",
       "      <td>f</td>\n",
       "      <td>1991-02-26</td>\n",
       "      <td>70.60</td>\n",
       "      <td>...</td>\n",
       "      <td>-1</td>\n",
       "      <td>-1</td>\n",
       "      <td>-1</td>\n",
       "      <td>-1</td>\n",
       "      <td>-1</td>\n",
       "      <td>-1.1128</td>\n",
       "      <td>-0.2793</td>\n",
       "      <td>-0.6343</td>\n",
       "      <td>1.32553</td>\n",
       "      <td>-0.6035</td>\n",
       "    </tr>\n",
       "  </tbody>\n",
       "</table>\n",
       "<p>3998 rows × 39 columns</p>\n",
       "</div>"
      ],
      "text/plain": [
       "     Unnamed: 0      ID   Salary        DOJ                  DOL  \\\n",
       "0         train  203097   420000 2012-06-01              present   \n",
       "1         train  579905   500000 2013-09-01              present   \n",
       "2         train  810601   325000 2014-06-01              present   \n",
       "3         train  267447  1100000 2011-07-01              present   \n",
       "4         train  343523   200000 2014-03-01  2015-03-01 00:00:00   \n",
       "...         ...     ...      ...        ...                  ...   \n",
       "3993      train   47916   280000 2011-10-01  2012-10-01 00:00:00   \n",
       "3994      train  752781   100000 2013-07-01  2013-07-01 00:00:00   \n",
       "3995      train  355888   320000 2013-07-01              present   \n",
       "3996      train  947111   200000 2014-07-01  2015-01-01 00:00:00   \n",
       "3997      train  324966   400000 2013-02-01              present   \n",
       "\n",
       "                      Designation           JobCity Gender        DOB  \\\n",
       "0         senior quality engineer         Bangalore      f 1990-02-19   \n",
       "1               assistant manager            Indore      m 1989-10-04   \n",
       "2                systems engineer           Chennai      f 1992-08-03   \n",
       "3        senior software engineer           Gurgaon      m 1989-12-05   \n",
       "4                             get           Manesar      m 1991-02-27   \n",
       "...                           ...               ...    ...        ...   \n",
       "3993            software engineer        New Delhi       m 1987-04-15   \n",
       "3994             technical writer         Hyderabad      f 1992-08-27   \n",
       "3995  associate software engineer         Bangalore      m 1991-07-03   \n",
       "3996           software developer  Asifabadbanglore      f 1992-03-20   \n",
       "3997      senior systems engineer           Chennai      f 1991-02-26   \n",
       "\n",
       "      10percentage  ... ComputerScience  MechanicalEngg  ElectricalEngg  \\\n",
       "0            84.30  ...              -1              -1              -1   \n",
       "1            85.40  ...              -1              -1              -1   \n",
       "2            85.00  ...              -1              -1              -1   \n",
       "3            85.60  ...              -1              -1              -1   \n",
       "4            78.00  ...              -1              -1              -1   \n",
       "...            ...  ...             ...             ...             ...   \n",
       "3993         52.09  ...              -1              -1              -1   \n",
       "3994         90.00  ...              -1              -1              -1   \n",
       "3995         81.86  ...              -1              -1              -1   \n",
       "3996         78.72  ...             438              -1              -1   \n",
       "3997         70.60  ...              -1              -1              -1   \n",
       "\n",
       "     TelecomEngg  CivilEngg  conscientiousness agreeableness extraversion  \\\n",
       "0             -1         -1             0.9737        0.8128       0.5269   \n",
       "1             -1         -1            -0.7335        0.3789       1.2396   \n",
       "2             -1         -1             0.2718        1.7109       0.1637   \n",
       "3             -1         -1             0.0464        0.3448      -0.3440   \n",
       "4             -1         -1            -0.8810       -0.2793      -1.0697   \n",
       "...          ...        ...                ...           ...          ...   \n",
       "3993          -1         -1            -0.1082        0.3448       0.2366   \n",
       "3994          -1         -1            -0.3027        0.8784       0.9322   \n",
       "3995          -1         -1            -1.5765       -1.5273      -1.5051   \n",
       "3996          -1         -1            -0.1590        0.0459      -0.4511   \n",
       "3997          -1         -1            -1.1128       -0.2793      -0.6343   \n",
       "\n",
       "      nueroticism  openess_to_experience  \n",
       "0         1.35490                -0.4455  \n",
       "1        -0.10760                 0.8637  \n",
       "2        -0.86820                 0.6721  \n",
       "3        -0.40780                -0.9194  \n",
       "4         0.09163                -0.1295  \n",
       "...           ...                    ...  \n",
       "3993      0.64980                -0.9194  \n",
       "3994      0.77980                -0.0943  \n",
       "3995     -1.31840                -0.7615  \n",
       "3996     -0.36120                -0.0943  \n",
       "3997      1.32553                -0.6035  \n",
       "\n",
       "[3998 rows x 39 columns]"
      ]
     },
     "execution_count": 2,
     "metadata": {},
     "output_type": "execute_result"
    }
   ],
   "source": [
    "df = pd.read_excel('D:/New folder/aspiring_minds_employability_outcomes_2015.xlsx')\n",
    "df"
   ]
  },
  {
   "cell_type": "code",
   "execution_count": 3,
   "metadata": {},
   "outputs": [
    {
     "data": {
      "text/plain": [
       "0"
      ]
     },
     "execution_count": 3,
     "metadata": {},
     "output_type": "execute_result"
    }
   ],
   "source": [
    "df.GraduationYear.min()"
   ]
  },
  {
   "cell_type": "code",
   "execution_count": 10,
   "metadata": {},
   "outputs": [
    {
     "data": {
      "text/plain": [
       "2664       0\n",
       "3193    2007\n",
       "Name: GraduationYear, dtype: int64"
      ]
     },
     "execution_count": 10,
     "metadata": {},
     "output_type": "execute_result"
    }
   ],
   "source": [
    "df.loc[df.GraduationYear < 2008,'GraduationYear']"
   ]
  },
  {
   "cell_type": "code",
   "execution_count": 8,
   "metadata": {},
   "outputs": [
    {
     "data": {
      "text/plain": [
       "2017"
      ]
     },
     "execution_count": 8,
     "metadata": {},
     "output_type": "execute_result"
    }
   ],
   "source": [
    "df.GraduationYear.max()"
   ]
  },
  {
   "cell_type": "code",
   "execution_count": 11,
   "metadata": {},
   "outputs": [
    {
     "data": {
      "text/plain": [
       "8       2013\n",
       "12      2013\n",
       "14      2013\n",
       "17      2013\n",
       "18      2013\n",
       "        ... \n",
       "3978    2013\n",
       "3979    2013\n",
       "3981    2013\n",
       "3983    2013\n",
       "3994    2013\n",
       "Name: GraduationYear, Length: 1181, dtype: int64"
      ]
     },
     "execution_count": 11,
     "metadata": {},
     "output_type": "execute_result"
    }
   ],
   "source": [
    "df.loc[df.GraduationYear == 2013, 'GraduationYear']"
   ]
  },
  {
   "cell_type": "markdown",
   "metadata": {},
   "source": [
    "**OBSERVATION 1**: Graduation year range= 2007-2017. Maximum people were 2013 graduates i.e.,1181"
   ]
  },
  {
   "cell_type": "code",
   "execution_count": null,
   "metadata": {},
   "outputs": [],
   "source": [
    "*******************************************"
   ]
  },
  {
   "cell_type": "markdown",
   "metadata": {},
   "source": [
    "Avg salary of tier-2 college students"
   ]
  },
  {
   "cell_type": "code",
   "execution_count": 7,
   "metadata": {},
   "outputs": [
    {
     "data": {
      "text/html": [
       "<div>\n",
       "<style scoped>\n",
       "    .dataframe tbody tr th:only-of-type {\n",
       "        vertical-align: middle;\n",
       "    }\n",
       "\n",
       "    .dataframe tbody tr th {\n",
       "        vertical-align: top;\n",
       "    }\n",
       "\n",
       "    .dataframe thead th {\n",
       "        text-align: right;\n",
       "    }\n",
       "</style>\n",
       "<table border=\"1\" class=\"dataframe\">\n",
       "  <thead>\n",
       "    <tr style=\"text-align: right;\">\n",
       "      <th></th>\n",
       "      <th>Salary</th>\n",
       "      <th>CollegeTier</th>\n",
       "    </tr>\n",
       "  </thead>\n",
       "  <tbody>\n",
       "    <tr>\n",
       "      <th>0</th>\n",
       "      <td>420000</td>\n",
       "      <td>2</td>\n",
       "    </tr>\n",
       "    <tr>\n",
       "      <th>1</th>\n",
       "      <td>500000</td>\n",
       "      <td>2</td>\n",
       "    </tr>\n",
       "    <tr>\n",
       "      <th>2</th>\n",
       "      <td>325000</td>\n",
       "      <td>2</td>\n",
       "    </tr>\n",
       "    <tr>\n",
       "      <th>3</th>\n",
       "      <td>1100000</td>\n",
       "      <td>1</td>\n",
       "    </tr>\n",
       "    <tr>\n",
       "      <th>4</th>\n",
       "      <td>200000</td>\n",
       "      <td>2</td>\n",
       "    </tr>\n",
       "    <tr>\n",
       "      <th>...</th>\n",
       "      <td>...</td>\n",
       "      <td>...</td>\n",
       "    </tr>\n",
       "    <tr>\n",
       "      <th>3993</th>\n",
       "      <td>280000</td>\n",
       "      <td>2</td>\n",
       "    </tr>\n",
       "    <tr>\n",
       "      <th>3994</th>\n",
       "      <td>100000</td>\n",
       "      <td>2</td>\n",
       "    </tr>\n",
       "    <tr>\n",
       "      <th>3995</th>\n",
       "      <td>320000</td>\n",
       "      <td>2</td>\n",
       "    </tr>\n",
       "    <tr>\n",
       "      <th>3996</th>\n",
       "      <td>200000</td>\n",
       "      <td>2</td>\n",
       "    </tr>\n",
       "    <tr>\n",
       "      <th>3997</th>\n",
       "      <td>400000</td>\n",
       "      <td>2</td>\n",
       "    </tr>\n",
       "  </tbody>\n",
       "</table>\n",
       "<p>3998 rows × 2 columns</p>\n",
       "</div>"
      ],
      "text/plain": [
       "       Salary  CollegeTier\n",
       "0      420000            2\n",
       "1      500000            2\n",
       "2      325000            2\n",
       "3     1100000            1\n",
       "4      200000            2\n",
       "...       ...          ...\n",
       "3993   280000            2\n",
       "3994   100000            2\n",
       "3995   320000            2\n",
       "3996   200000            2\n",
       "3997   400000            2\n",
       "\n",
       "[3998 rows x 2 columns]"
      ]
     },
     "execution_count": 7,
     "metadata": {},
     "output_type": "execute_result"
    }
   ],
   "source": [
    "n_df = pd.DataFrame(df, columns=['Salary', 'CollegeTier'])\n",
    "n_df"
   ]
  },
  {
   "cell_type": "code",
   "execution_count": 8,
   "metadata": {},
   "outputs": [
    {
     "data": {
      "text/plain": [
       "0       420000\n",
       "1       500000\n",
       "2       325000\n",
       "4       200000\n",
       "5       300000\n",
       "         ...  \n",
       "3993    280000\n",
       "3994    100000\n",
       "3995    320000\n",
       "3996    200000\n",
       "3997    400000\n",
       "Name: Salary, Length: 3701, dtype: int64"
      ]
     },
     "execution_count": 8,
     "metadata": {},
     "output_type": "execute_result"
    }
   ],
   "source": [
    "p=n_df['Salary'][n_df['CollegeTier']==2]\n",
    "p"
   ]
  },
  {
   "cell_type": "code",
   "execution_count": 9,
   "metadata": {},
   "outputs": [
    {
     "data": {
      "text/plain": [
       "296893.8124831127"
      ]
     },
     "execution_count": 9,
     "metadata": {},
     "output_type": "execute_result"
    }
   ],
   "source": [
    "p.mean()"
   ]
  },
  {
   "cell_type": "markdown",
   "metadata": {},
   "source": [
    "**OBSERVATION 2**: Average salary of Tier-2 College students is 300000 (approx.)"
   ]
  },
  {
   "cell_type": "code",
   "execution_count": null,
   "metadata": {},
   "outputs": [],
   "source": [
    "***********************************************************************************"
   ]
  },
  {
   "cell_type": "code",
   "execution_count": 10,
   "metadata": {},
   "outputs": [
    {
     "data": {
      "text/plain": [
       "B.Tech/B.E.      3700\n",
       "MCA               243\n",
       "M.Tech./M.E.       53\n",
       "M.Sc. (Tech.)       2\n",
       "Name: Degree, dtype: int64"
      ]
     },
     "execution_count": 10,
     "metadata": {},
     "output_type": "execute_result"
    }
   ],
   "source": [
    "df.Degree.value_counts()"
   ]
  },
  {
   "cell_type": "code",
   "execution_count": 11,
   "metadata": {},
   "outputs": [
    {
     "data": {
      "text/html": [
       "<div>\n",
       "<style scoped>\n",
       "    .dataframe tbody tr th:only-of-type {\n",
       "        vertical-align: middle;\n",
       "    }\n",
       "\n",
       "    .dataframe tbody tr th {\n",
       "        vertical-align: top;\n",
       "    }\n",
       "\n",
       "    .dataframe thead th {\n",
       "        text-align: right;\n",
       "    }\n",
       "</style>\n",
       "<table border=\"1\" class=\"dataframe\">\n",
       "  <thead>\n",
       "    <tr style=\"text-align: right;\">\n",
       "      <th></th>\n",
       "      <th>Salary</th>\n",
       "      <th>Degree</th>\n",
       "    </tr>\n",
       "  </thead>\n",
       "  <tbody>\n",
       "    <tr>\n",
       "      <th>0</th>\n",
       "      <td>420000</td>\n",
       "      <td>B.Tech/B.E.</td>\n",
       "    </tr>\n",
       "    <tr>\n",
       "      <th>1</th>\n",
       "      <td>500000</td>\n",
       "      <td>B.Tech/B.E.</td>\n",
       "    </tr>\n",
       "    <tr>\n",
       "      <th>2</th>\n",
       "      <td>325000</td>\n",
       "      <td>B.Tech/B.E.</td>\n",
       "    </tr>\n",
       "    <tr>\n",
       "      <th>3</th>\n",
       "      <td>1100000</td>\n",
       "      <td>B.Tech/B.E.</td>\n",
       "    </tr>\n",
       "    <tr>\n",
       "      <th>4</th>\n",
       "      <td>200000</td>\n",
       "      <td>B.Tech/B.E.</td>\n",
       "    </tr>\n",
       "    <tr>\n",
       "      <th>...</th>\n",
       "      <td>...</td>\n",
       "      <td>...</td>\n",
       "    </tr>\n",
       "    <tr>\n",
       "      <th>3993</th>\n",
       "      <td>280000</td>\n",
       "      <td>B.Tech/B.E.</td>\n",
       "    </tr>\n",
       "    <tr>\n",
       "      <th>3994</th>\n",
       "      <td>100000</td>\n",
       "      <td>B.Tech/B.E.</td>\n",
       "    </tr>\n",
       "    <tr>\n",
       "      <th>3995</th>\n",
       "      <td>320000</td>\n",
       "      <td>B.Tech/B.E.</td>\n",
       "    </tr>\n",
       "    <tr>\n",
       "      <th>3996</th>\n",
       "      <td>200000</td>\n",
       "      <td>B.Tech/B.E.</td>\n",
       "    </tr>\n",
       "    <tr>\n",
       "      <th>3997</th>\n",
       "      <td>400000</td>\n",
       "      <td>B.Tech/B.E.</td>\n",
       "    </tr>\n",
       "  </tbody>\n",
       "</table>\n",
       "<p>3998 rows × 2 columns</p>\n",
       "</div>"
      ],
      "text/plain": [
       "       Salary       Degree\n",
       "0      420000  B.Tech/B.E.\n",
       "1      500000  B.Tech/B.E.\n",
       "2      325000  B.Tech/B.E.\n",
       "3     1100000  B.Tech/B.E.\n",
       "4      200000  B.Tech/B.E.\n",
       "...       ...          ...\n",
       "3993   280000  B.Tech/B.E.\n",
       "3994   100000  B.Tech/B.E.\n",
       "3995   320000  B.Tech/B.E.\n",
       "3996   200000  B.Tech/B.E.\n",
       "3997   400000  B.Tech/B.E.\n",
       "\n",
       "[3998 rows x 2 columns]"
      ]
     },
     "execution_count": 11,
     "metadata": {},
     "output_type": "execute_result"
    }
   ],
   "source": [
    "q_df = pd.DataFrame(df, columns=['Salary', 'Degree'])\n",
    "q_df"
   ]
  },
  {
   "cell_type": "code",
   "execution_count": 12,
   "metadata": {},
   "outputs": [
    {
     "data": {
      "text/plain": [
       "280802.4691358025"
      ]
     },
     "execution_count": 12,
     "metadata": {},
     "output_type": "execute_result"
    }
   ],
   "source": [
    "s=q_df['Salary'][q_df['Degree']=='MCA']\n",
    "s.mean()"
   ]
  },
  {
   "cell_type": "code",
   "execution_count": 13,
   "metadata": {},
   "outputs": [
    {
     "data": {
      "text/plain": [
       "308622.7027027027"
      ]
     },
     "execution_count": 13,
     "metadata": {},
     "output_type": "execute_result"
    }
   ],
   "source": [
    "s=q_df['Salary'][q_df['Degree']=='B.Tech/B.E.']\n",
    "s.mean()"
   ]
  },
  {
   "cell_type": "markdown",
   "metadata": {},
   "source": [
    "**OBSERVATION 3**: Annual package for B.Tech/B.E students is higher than MCA students."
   ]
  },
  {
   "cell_type": "code",
   "execution_count": null,
   "metadata": {},
   "outputs": [],
   "source": [
    "**************************************************************************************"
   ]
  },
  {
   "cell_type": "code",
   "execution_count": 14,
   "metadata": {},
   "outputs": [
    {
     "data": {
      "text/plain": [
       "2490    computer engineering\n",
       "2957    computer engineering\n",
       "Name: Specialization, dtype: object"
      ]
     },
     "execution_count": 14,
     "metadata": {},
     "output_type": "execute_result"
    }
   ],
   "source": [
    "df.loc[df.Quant==df.Quant.max(),'Specialization']"
   ]
  },
  {
   "cell_type": "code",
   "execution_count": 15,
   "metadata": {},
   "outputs": [
    {
     "data": {
      "text/plain": [
       "2437    information technology\n",
       "Name: Specialization, dtype: object"
      ]
     },
     "execution_count": 15,
     "metadata": {},
     "output_type": "execute_result"
    }
   ],
   "source": [
    "df.loc[df.Quant==df.Quant.min(),'Specialization']"
   ]
  },
  {
   "cell_type": "code",
   "execution_count": 16,
   "metadata": {},
   "outputs": [
    {
     "data": {
      "text/plain": [
       "1014    information technology\n",
       "Name: Specialization, dtype: object"
      ]
     },
     "execution_count": 16,
     "metadata": {},
     "output_type": "execute_result"
    }
   ],
   "source": [
    "df.loc[df.Logical==df.Logical.max(),'Specialization']"
   ]
  },
  {
   "cell_type": "code",
   "execution_count": 17,
   "metadata": {},
   "outputs": [
    {
     "data": {
      "text/plain": [
       "2830    electrical engineering\n",
       "Name: Specialization, dtype: object"
      ]
     },
     "execution_count": 17,
     "metadata": {},
     "output_type": "execute_result"
    }
   ],
   "source": [
    "df.loc[df.Logical==df.Logical.min(),'Specialization']"
   ]
  },
  {
   "cell_type": "markdown",
   "metadata": {},
   "source": [
    "**Observation 4**: In Quantitative section, CSE student scored highest marks and IT student scored the least. Whereas in Logical, IT student scored highest marks and EEE student scored the least."
   ]
  },
  {
   "cell_type": "code",
   "execution_count": null,
   "metadata": {},
   "outputs": [],
   "source": [
    "***************************************************************************ss"
   ]
  },
  {
   "cell_type": "code",
   "execution_count": 18,
   "metadata": {},
   "outputs": [
    {
     "data": {
      "text/html": [
       "<div>\n",
       "<style scoped>\n",
       "    .dataframe tbody tr th:only-of-type {\n",
       "        vertical-align: middle;\n",
       "    }\n",
       "\n",
       "    .dataframe tbody tr th {\n",
       "        vertical-align: top;\n",
       "    }\n",
       "\n",
       "    .dataframe thead th {\n",
       "        text-align: right;\n",
       "    }\n",
       "</style>\n",
       "<table border=\"1\" class=\"dataframe\">\n",
       "  <thead>\n",
       "    <tr style=\"text-align: right;\">\n",
       "      <th></th>\n",
       "      <th>Unnamed: 0</th>\n",
       "      <th>ID</th>\n",
       "      <th>Salary</th>\n",
       "      <th>DOJ</th>\n",
       "      <th>DOL</th>\n",
       "      <th>Designation</th>\n",
       "      <th>JobCity</th>\n",
       "      <th>Gender</th>\n",
       "      <th>DOB</th>\n",
       "      <th>10percentage</th>\n",
       "      <th>...</th>\n",
       "      <th>ComputerScience</th>\n",
       "      <th>MechanicalEngg</th>\n",
       "      <th>ElectricalEngg</th>\n",
       "      <th>TelecomEngg</th>\n",
       "      <th>CivilEngg</th>\n",
       "      <th>conscientiousness</th>\n",
       "      <th>agreeableness</th>\n",
       "      <th>extraversion</th>\n",
       "      <th>nueroticism</th>\n",
       "      <th>openess_to_experience</th>\n",
       "    </tr>\n",
       "  </thead>\n",
       "  <tbody>\n",
       "    <tr>\n",
       "      <th>0</th>\n",
       "      <td>train</td>\n",
       "      <td>203097</td>\n",
       "      <td>420000</td>\n",
       "      <td>2012-06-01</td>\n",
       "      <td>present</td>\n",
       "      <td>senior quality engineer</td>\n",
       "      <td>Bangalore</td>\n",
       "      <td>f</td>\n",
       "      <td>1990-02-19</td>\n",
       "      <td>84.30</td>\n",
       "      <td>...</td>\n",
       "      <td>-1</td>\n",
       "      <td>-1</td>\n",
       "      <td>-1</td>\n",
       "      <td>-1</td>\n",
       "      <td>-1</td>\n",
       "      <td>0.9737</td>\n",
       "      <td>0.8128</td>\n",
       "      <td>0.5269</td>\n",
       "      <td>1.3549</td>\n",
       "      <td>-0.4455</td>\n",
       "    </tr>\n",
       "    <tr>\n",
       "      <th>7</th>\n",
       "      <td>train</td>\n",
       "      <td>912934</td>\n",
       "      <td>400000</td>\n",
       "      <td>2014-07-01</td>\n",
       "      <td>2015-07-01 00:00:00</td>\n",
       "      <td>mechanical engineer</td>\n",
       "      <td>Bangalore</td>\n",
       "      <td>m</td>\n",
       "      <td>1992-05-27</td>\n",
       "      <td>92.00</td>\n",
       "      <td>...</td>\n",
       "      <td>-1</td>\n",
       "      <td>469</td>\n",
       "      <td>-1</td>\n",
       "      <td>-1</td>\n",
       "      <td>-1</td>\n",
       "      <td>-0.0154</td>\n",
       "      <td>1.2114</td>\n",
       "      <td>0.0100</td>\n",
       "      <td>0.1459</td>\n",
       "      <td>1.2470</td>\n",
       "    </tr>\n",
       "    <tr>\n",
       "      <th>10</th>\n",
       "      <td>train</td>\n",
       "      <td>87291</td>\n",
       "      <td>600000</td>\n",
       "      <td>2011-04-01</td>\n",
       "      <td>2015-04-01 00:00:00</td>\n",
       "      <td>senior php developer</td>\n",
       "      <td>Bangalore</td>\n",
       "      <td>m</td>\n",
       "      <td>1989-06-24</td>\n",
       "      <td>88.60</td>\n",
       "      <td>...</td>\n",
       "      <td>-1</td>\n",
       "      <td>-1</td>\n",
       "      <td>-1</td>\n",
       "      <td>-1</td>\n",
       "      <td>-1</td>\n",
       "      <td>0.0464</td>\n",
       "      <td>0.8128</td>\n",
       "      <td>0.0914</td>\n",
       "      <td>0.1798</td>\n",
       "      <td>0.0284</td>\n",
       "    </tr>\n",
       "    <tr>\n",
       "      <th>14</th>\n",
       "      <td>train</td>\n",
       "      <td>1279958</td>\n",
       "      <td>300000</td>\n",
       "      <td>2013-07-01</td>\n",
       "      <td>present</td>\n",
       "      <td>java software engineer</td>\n",
       "      <td>Bangalore</td>\n",
       "      <td>m</td>\n",
       "      <td>1992-07-02</td>\n",
       "      <td>81.20</td>\n",
       "      <td>...</td>\n",
       "      <td>376</td>\n",
       "      <td>-1</td>\n",
       "      <td>-1</td>\n",
       "      <td>-1</td>\n",
       "      <td>-1</td>\n",
       "      <td>0.7027</td>\n",
       "      <td>0.7119</td>\n",
       "      <td>0.0100</td>\n",
       "      <td>-0.9950</td>\n",
       "      <td>0.6721</td>\n",
       "    </tr>\n",
       "    <tr>\n",
       "      <th>20</th>\n",
       "      <td>train</td>\n",
       "      <td>140069</td>\n",
       "      <td>320000</td>\n",
       "      <td>2010-11-01</td>\n",
       "      <td>2012-09-01 00:00:00</td>\n",
       "      <td>software engineer</td>\n",
       "      <td>Bangalore</td>\n",
       "      <td>f</td>\n",
       "      <td>1988-07-25</td>\n",
       "      <td>91.20</td>\n",
       "      <td>...</td>\n",
       "      <td>-1</td>\n",
       "      <td>-1</td>\n",
       "      <td>-1</td>\n",
       "      <td>-1</td>\n",
       "      <td>-1</td>\n",
       "      <td>-0.1082</td>\n",
       "      <td>0.9688</td>\n",
       "      <td>0.5269</td>\n",
       "      <td>-0.2902</td>\n",
       "      <td>0.3444</td>\n",
       "    </tr>\n",
       "    <tr>\n",
       "      <th>...</th>\n",
       "      <td>...</td>\n",
       "      <td>...</td>\n",
       "      <td>...</td>\n",
       "      <td>...</td>\n",
       "      <td>...</td>\n",
       "      <td>...</td>\n",
       "      <td>...</td>\n",
       "      <td>...</td>\n",
       "      <td>...</td>\n",
       "      <td>...</td>\n",
       "      <td>...</td>\n",
       "      <td>...</td>\n",
       "      <td>...</td>\n",
       "      <td>...</td>\n",
       "      <td>...</td>\n",
       "      <td>...</td>\n",
       "      <td>...</td>\n",
       "      <td>...</td>\n",
       "      <td>...</td>\n",
       "      <td>...</td>\n",
       "      <td>...</td>\n",
       "    </tr>\n",
       "    <tr>\n",
       "      <th>3986</th>\n",
       "      <td>train</td>\n",
       "      <td>51897</td>\n",
       "      <td>225000</td>\n",
       "      <td>2010-01-01</td>\n",
       "      <td>2010-10-01 00:00:00</td>\n",
       "      <td>software test engineer</td>\n",
       "      <td>Bangalore</td>\n",
       "      <td>f</td>\n",
       "      <td>1986-02-28</td>\n",
       "      <td>84.93</td>\n",
       "      <td>...</td>\n",
       "      <td>-1</td>\n",
       "      <td>-1</td>\n",
       "      <td>-1</td>\n",
       "      <td>-1</td>\n",
       "      <td>-1</td>\n",
       "      <td>-0.1082</td>\n",
       "      <td>1.1248</td>\n",
       "      <td>1.9782</td>\n",
       "      <td>-1.9354</td>\n",
       "      <td>-1.0774</td>\n",
       "    </tr>\n",
       "    <tr>\n",
       "      <th>3988</th>\n",
       "      <td>train</td>\n",
       "      <td>466661</td>\n",
       "      <td>200000</td>\n",
       "      <td>2013-02-01</td>\n",
       "      <td>2013-07-01 00:00:00</td>\n",
       "      <td>data analyst</td>\n",
       "      <td>Bangalore</td>\n",
       "      <td>f</td>\n",
       "      <td>1991-05-15</td>\n",
       "      <td>74.40</td>\n",
       "      <td>...</td>\n",
       "      <td>-1</td>\n",
       "      <td>-1</td>\n",
       "      <td>-1</td>\n",
       "      <td>-1</td>\n",
       "      <td>-1</td>\n",
       "      <td>-0.5332</td>\n",
       "      <td>-0.1232</td>\n",
       "      <td>-0.0537</td>\n",
       "      <td>1.3255</td>\n",
       "      <td>0.5024</td>\n",
       "    </tr>\n",
       "    <tr>\n",
       "      <th>3989</th>\n",
       "      <td>train</td>\n",
       "      <td>1204604</td>\n",
       "      <td>300000</td>\n",
       "      <td>2014-09-01</td>\n",
       "      <td>present</td>\n",
       "      <td>software engineer</td>\n",
       "      <td>Bangalore</td>\n",
       "      <td>m</td>\n",
       "      <td>1991-11-23</td>\n",
       "      <td>74.88</td>\n",
       "      <td>...</td>\n",
       "      <td>346</td>\n",
       "      <td>-1</td>\n",
       "      <td>-1</td>\n",
       "      <td>-1</td>\n",
       "      <td>-1</td>\n",
       "      <td>0.1282</td>\n",
       "      <td>0.0459</td>\n",
       "      <td>1.2396</td>\n",
       "      <td>1.0333</td>\n",
       "      <td>0.6721</td>\n",
       "    </tr>\n",
       "    <tr>\n",
       "      <th>3991</th>\n",
       "      <td>train</td>\n",
       "      <td>230873</td>\n",
       "      <td>630000</td>\n",
       "      <td>2011-07-01</td>\n",
       "      <td>2014-10-01 00:00:00</td>\n",
       "      <td>systems analyst</td>\n",
       "      <td>Bangalore</td>\n",
       "      <td>m</td>\n",
       "      <td>1990-05-20</td>\n",
       "      <td>80.00</td>\n",
       "      <td>...</td>\n",
       "      <td>-1</td>\n",
       "      <td>-1</td>\n",
       "      <td>-1</td>\n",
       "      <td>393</td>\n",
       "      <td>-1</td>\n",
       "      <td>-1.3447</td>\n",
       "      <td>0.5008</td>\n",
       "      <td>-1.6502</td>\n",
       "      <td>-0.0552</td>\n",
       "      <td>0.0284</td>\n",
       "    </tr>\n",
       "    <tr>\n",
       "      <th>3995</th>\n",
       "      <td>train</td>\n",
       "      <td>355888</td>\n",
       "      <td>320000</td>\n",
       "      <td>2013-07-01</td>\n",
       "      <td>present</td>\n",
       "      <td>associate software engineer</td>\n",
       "      <td>Bangalore</td>\n",
       "      <td>m</td>\n",
       "      <td>1991-07-03</td>\n",
       "      <td>81.86</td>\n",
       "      <td>...</td>\n",
       "      <td>-1</td>\n",
       "      <td>-1</td>\n",
       "      <td>-1</td>\n",
       "      <td>-1</td>\n",
       "      <td>-1</td>\n",
       "      <td>-1.5765</td>\n",
       "      <td>-1.5273</td>\n",
       "      <td>-1.5051</td>\n",
       "      <td>-1.3184</td>\n",
       "      <td>-0.7615</td>\n",
       "    </tr>\n",
       "  </tbody>\n",
       "</table>\n",
       "<p>627 rows × 39 columns</p>\n",
       "</div>"
      ],
      "text/plain": [
       "     Unnamed: 0       ID  Salary        DOJ                  DOL  \\\n",
       "0         train   203097  420000 2012-06-01              present   \n",
       "7         train   912934  400000 2014-07-01  2015-07-01 00:00:00   \n",
       "10        train    87291  600000 2011-04-01  2015-04-01 00:00:00   \n",
       "14        train  1279958  300000 2013-07-01              present   \n",
       "20        train   140069  320000 2010-11-01  2012-09-01 00:00:00   \n",
       "...         ...      ...     ...        ...                  ...   \n",
       "3986      train    51897  225000 2010-01-01  2010-10-01 00:00:00   \n",
       "3988      train   466661  200000 2013-02-01  2013-07-01 00:00:00   \n",
       "3989      train  1204604  300000 2014-09-01              present   \n",
       "3991      train   230873  630000 2011-07-01  2014-10-01 00:00:00   \n",
       "3995      train   355888  320000 2013-07-01              present   \n",
       "\n",
       "                      Designation    JobCity Gender        DOB  10percentage  \\\n",
       "0         senior quality engineer  Bangalore      f 1990-02-19         84.30   \n",
       "7             mechanical engineer  Bangalore      m 1992-05-27         92.00   \n",
       "10           senior php developer  Bangalore      m 1989-06-24         88.60   \n",
       "14         java software engineer  Bangalore      m 1992-07-02         81.20   \n",
       "20              software engineer  Bangalore      f 1988-07-25         91.20   \n",
       "...                           ...        ...    ...        ...           ...   \n",
       "3986       software test engineer  Bangalore      f 1986-02-28         84.93   \n",
       "3988                 data analyst  Bangalore      f 1991-05-15         74.40   \n",
       "3989            software engineer  Bangalore      m 1991-11-23         74.88   \n",
       "3991              systems analyst  Bangalore      m 1990-05-20         80.00   \n",
       "3995  associate software engineer  Bangalore      m 1991-07-03         81.86   \n",
       "\n",
       "      ... ComputerScience  MechanicalEngg  ElectricalEngg TelecomEngg  \\\n",
       "0     ...              -1              -1              -1          -1   \n",
       "7     ...              -1             469              -1          -1   \n",
       "10    ...              -1              -1              -1          -1   \n",
       "14    ...             376              -1              -1          -1   \n",
       "20    ...              -1              -1              -1          -1   \n",
       "...   ...             ...             ...             ...         ...   \n",
       "3986  ...              -1              -1              -1          -1   \n",
       "3988  ...              -1              -1              -1          -1   \n",
       "3989  ...             346              -1              -1          -1   \n",
       "3991  ...              -1              -1              -1         393   \n",
       "3995  ...              -1              -1              -1          -1   \n",
       "\n",
       "      CivilEngg  conscientiousness agreeableness extraversion  nueroticism  \\\n",
       "0            -1             0.9737        0.8128       0.5269       1.3549   \n",
       "7            -1            -0.0154        1.2114       0.0100       0.1459   \n",
       "10           -1             0.0464        0.8128       0.0914       0.1798   \n",
       "14           -1             0.7027        0.7119       0.0100      -0.9950   \n",
       "20           -1            -0.1082        0.9688       0.5269      -0.2902   \n",
       "...         ...                ...           ...          ...          ...   \n",
       "3986         -1            -0.1082        1.1248       1.9782      -1.9354   \n",
       "3988         -1            -0.5332       -0.1232      -0.0537       1.3255   \n",
       "3989         -1             0.1282        0.0459       1.2396       1.0333   \n",
       "3991         -1            -1.3447        0.5008      -1.6502      -0.0552   \n",
       "3995         -1            -1.5765       -1.5273      -1.5051      -1.3184   \n",
       "\n",
       "      openess_to_experience  \n",
       "0                   -0.4455  \n",
       "7                    1.2470  \n",
       "10                   0.0284  \n",
       "14                   0.6721  \n",
       "20                   0.3444  \n",
       "...                     ...  \n",
       "3986                -1.0774  \n",
       "3988                 0.5024  \n",
       "3989                 0.6721  \n",
       "3991                 0.0284  \n",
       "3995                -0.7615  \n",
       "\n",
       "[627 rows x 39 columns]"
      ]
     },
     "execution_count": 18,
     "metadata": {},
     "output_type": "execute_result"
    }
   ],
   "source": [
    "#new=df.groupby('JobCity').get_group('Bangalore') or\n",
    "new=df.loc[df.JobCity == 'Bangalore']\n",
    "new\n"
   ]
  },
  {
   "cell_type": "code",
   "execution_count": 19,
   "metadata": {},
   "outputs": [
    {
     "data": {
      "text/plain": [
       "electronics and communication engineering      143\n",
       "computer science & engineering                 123\n",
       "computer engineering                           116\n",
       "information technology                          98\n",
       "computer application                            40\n",
       "electronics and electrical engineering          24\n",
       "information science engineering                 17\n",
       "electronics & telecommunications                16\n",
       "mechanical engineering                          10\n",
       "electrical engineering                           9\n",
       "electronics & instrumentation eng                5\n",
       "telecommunication engineering                    4\n",
       "instrumentation engineering                      3\n",
       "instrumentation and control engineering          3\n",
       "electronics and instrumentation engineering      2\n",
       "other                                            2\n",
       "civil engineering                                2\n",
       "biotechnology                                    1\n",
       "electronics                                      1\n",
       "mechanical & production engineering              1\n",
       "information & communication technology           1\n",
       "applied electronics and instrumentation          1\n",
       "industrial & production engineering              1\n",
       "electronics engineering                          1\n",
       "industrial & management engineering              1\n",
       "mechatronics                                     1\n",
       "metallurgical engineering                        1\n",
       "Name: Specialization, dtype: int64"
      ]
     },
     "execution_count": 19,
     "metadata": {},
     "output_type": "execute_result"
    }
   ],
   "source": [
    "new.Specialization.value_counts()"
   ]
  },
  {
   "cell_type": "markdown",
   "metadata": {},
   "source": [
    "**OBSERVATION 5**: Maximum people were placed in Bangalore as software engineers, specialized in ECE and CSE."
   ]
  },
  {
   "cell_type": "code",
   "execution_count": null,
   "metadata": {},
   "outputs": [],
   "source": []
  },
  {
   "cell_type": "code",
   "execution_count": null,
   "metadata": {},
   "outputs": [],
   "source": []
  },
  {
   "cell_type": "code",
   "execution_count": 12,
   "metadata": {},
   "outputs": [
    {
     "data": {
      "image/png": "[encoded data removed]",
      "text/plain": [
       "<Figure size 432x288 with 1 Axes>"
      ]
     },
     "metadata": {
      "needs_background": "light"
     },
     "output_type": "display_data"
    }
   ],
   "source": [
    "plt.scatter(df['12graduation'],df['nueroticism'])\n",
    "plt.show()"
   ]
  },
  {
   "cell_type": "code",
   "execution_count": 13,
   "metadata": {},
   "outputs": [
    {
     "data": {
      "image/png": "[encoded data removed]",
      "text/plain": [
       "<Figure size 432x288 with 1 Axes>"
      ]
     },
     "metadata": {
      "needs_background": "light"
     },
     "output_type": "display_data"
    }
   ],
   "source": [
    "plt.hist(df['Salary'])\n",
    "plt.show()ss"
   ]
  },
  {
   "cell_type": "code",
   "execution_count": 14,
   "metadata": {},
   "outputs": [
    {
     "data": {
      "image/png": "[encoded data removed]",
      "text/plain": [
       "<Figure size 432x288 with 1 Axes>"
      ]
     },
     "metadata": {
      "needs_background": "light"
     },
     "output_type": "display_data"
    }
   ],
   "source": [
    "plt.boxplot(df['Salary'])\n",
    "plt.show()"
   ]
  },
  {
   "cell_type": "code",
   "execution_count": 3,
   "metadata": {},
   "outputs": [
    {
     "data": {
      "image/png": "[encoded data removed]",
      "text/plain": [
       "<Figure size 432x288 with 1 Axes>"
      ]
     },
     "metadata": {
      "needs_background": "light"
     },
     "output_type": "display_data"
    }
   ],
   "source": [
    "plt.scatter(df['10percentage'],df['12percentage'])\n",
    "plt.show()"
   ]
  },
  {
   "cell_type": "code",
   "execution_count": null,
   "metadata": {},
   "outputs": [],
   "source": []
  }
 ],
 "metadata": {
  "kernelspec": {
   "display_name": "Python 3",
   "language": "python",
   "name": "python3"
  },
  "language_info": {
   "codemirror_mode": {
    "name": "ipython",
    "version": 3
   },
   "file_extension": ".py",
   "mimetype": "text/x-python",
   "name": "python",
   "nbconvert_exporter": "python",
   "pygments_lexer": "ipython3",
   "version": "3.8.3"
  }
 },
 "nbformat": 4,
 "nbformat_minor": 4
}
